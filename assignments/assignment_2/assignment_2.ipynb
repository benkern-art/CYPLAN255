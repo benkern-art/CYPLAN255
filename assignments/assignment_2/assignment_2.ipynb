{
 "cells": [
  {
   "cell_type": "markdown",
   "metadata": {},
   "source": [
    "# Assignment 2 | Programming Logic\n",
    "\n",
    "Reminder: in all of the assignments this semester, the answer is not the only consideration, but also how you get to it. It's OK (suggested even!) to use the internet for help. But you _should_ be able to answer all of these questions using only the programming techniques you have learned in class and from the readings.\n",
    "\n",
    "A few keys for success:\n",
    "- Avoid manual data entry\n",
    "- Emphasize logic and clarity\n",
    "- Use comments, docstrings, and descriptive variable names\n",
    "- In general, less code is better. But if more lines of code makes your program easier to read or understand what its doing, then go for it."
   ]
  },
  {
   "cell_type": "markdown",
   "metadata": {},
   "source": [
    "## Problem 1 \n",
    "Write a Python program to count the number of even and odd numbers from a list of numbers. Test your code by running it on a list of integers from 1 to 9. No need to make this a function unless you want to."
   ]
  },
  {
   "cell_type": "code",
   "execution_count": 25,
   "metadata": {},
   "outputs": [
    {
     "name": "stdout",
     "output_type": "stream",
     "text": [
      "even counts: 4\n",
      "odd counts: 5\n"
     ]
    }
   ],
   "source": [
    "def count_evenodd(start, end, step): \n",
    "    count_evens = 0\n",
    "    count_odds = 0\n",
    "    while start <= end:\n",
    "        if start % 2 == 0:\n",
    "            count_evens +=1\n",
    "        else:\n",
    "            count_odds+=1\n",
    "        start +=step\n",
    "        \n",
    "    print('even counts:',  count_evens)\n",
    "    print('odd counts:', count_odds)\n",
    "    return\n",
    "count_evenodd(1,9,1)"
   ]
  },
  {
   "cell_type": "markdown",
   "metadata": {
    "collapsed": true
   },
   "source": [
    "## Problem 2\n",
    "Write a Python function that takes a list of numbers and returns a list containing only the even numbers from the original list. Test your function by running it on a list of integers from 1 to 9."
   ]
  },
  {
   "cell_type": "code",
   "execution_count": 30,
   "metadata": {},
   "outputs": [
    {
     "data": {
      "text/plain": [
       "[0, 2, 4, 6, 8]"
      ]
     },
     "execution_count": 30,
     "metadata": {},
     "output_type": "execute_result"
    }
   ],
   "source": [
    "def return_evens(list_num):\n",
    "    even_list = []\n",
    "    for i in list_num:\n",
    "        if i % 2 == 0:\n",
    "            even_list.append(i)\n",
    "    return even_list\n",
    "return_evens(list(range(0,10,1)))"
   ]
  },
  {
   "cell_type": "markdown",
   "metadata": {},
   "source": [
    "## Problem 3\n",
    "\n",
    "1. Create a function that accepts a list of integers as an argument and returns a list of floats which equals each number as a fraction of the sum of all the items in the original list.\n",
    "\n",
    "2. Next, create a second function which is the same as the first, but limit each number in the output list to two decimals.\n",
    "\n",
    "3. Create another function which builds on the previous one by allowing a \"user\" pass in an argument that defines the number of decimal places to use in the output list.\n",
    "\n",
    "4. Test each of these functions with a list of integers"
   ]
  },
  {
   "cell_type": "code",
   "execution_count": 56,
   "metadata": {},
   "outputs": [],
   "source": [
    "import numpy as np\n",
    "def frac_sum(list_num):\n",
    "   # floats equals each number as a fraction of sum of all items in original list\n",
    "    list_sum = np.sum(list_num)\n",
    "    proportions = list_num/list_sum\n",
    "    return list(proportions)\n",
    "def rounding(list_num, decimal_places):\n",
    "    rounded_list = [round(i,2) for i in list_num]\n",
    "    return rounded_list \n",
    "        \n",
    "some_nums = list(4,5,7,10,12)\n",
    "frac_nums = frac_sum(some_nums)\n",
    "print(rounding)\n"
   ]
  },
  {
   "cell_type": "markdown",
   "metadata": {},
   "source": [
    "## Problem 4\n",
    "A prime number is any whole number greater than 1 that has no positive divisors besides 1 and itself. In other words, a prime number must be:\n",
    "1. an integer\n",
    "2. greater than 1\n",
    "3. divisible only by 1 and itself.\n",
    "\n",
    "Write a function is_prime(n) that accepts an argument `n` and returns `True` (boolean) if `n` is a prime number and `False` if n is not prime. For example, `is_prime(11)` should return `True` and `is_prime(12)` should return `False`.\n"
   ]
  },
  {
   "cell_type": "code",
   "execution_count": 97,
   "metadata": {},
   "outputs": [
    {
     "name": "stdout",
     "output_type": "stream",
     "text": [
      "False True\n"
     ]
    }
   ],
   "source": [
    "def is_prime(n):\n",
    "    if n <=1: \n",
    "        print('Must be greater than 1')\n",
    "        return\n",
    "    if (n % n == 0) & (n % 1 != 0):\n",
    "        print('Must be an integer')\n",
    "        return \n",
    "    for i in range(2,n):\n",
    "        if n % i == 0:\n",
    "            return False            \n",
    "    return True\n",
    "print(is_prime(12), is_prime(11))"
   ]
  },
  {
   "cell_type": "markdown",
   "metadata": {},
   "source": [
    "## Problem 5"
   ]
  },
  {
   "cell_type": "markdown",
   "metadata": {},
   "source": [
    "1. Create a class called `Housing`, and add the following attributes to it:\n",
    "  - type\n",
    "  - area\n",
    "  - number of bedrooms\n",
    "  - value (price)\n",
    "  - year built.\n",
    "2. Create two instances of your class and populate their attributes (make 'em up)\n",
    "3. Create a method called `rent()` that calculates the estimated monthly rent for each house (assume that monthly rent is 0.4% of the value of the house)\n",
    "4. Print the rent for both instances."
   ]
  },
  {
   "cell_type": "code",
   "execution_count": 101,
   "metadata": {},
   "outputs": [
    {
     "name": "stdout",
     "output_type": "stream",
     "text": [
      "estimated monthly rent:  4000.0\n",
      "estimated monthly rent:  800.0\n"
     ]
    }
   ],
   "source": [
    "# review object oriented programming!!!!\n",
    "class Housing:\n",
    "    \n",
    "    def __init__(self, type, area, num_bedrooms, home_price, year_built):\n",
    "        self.type = type\n",
    "        self.area = area\n",
    "        self.num_beds = num_bedrooms\n",
    "        self.home_price = home_price\n",
    "        self.year_built = year_built \n",
    "        \n",
    "    def rent(self):\n",
    "        print('estimated monthly rent: ', self.home_price*0.004)\n",
    "        return \n",
    "beverley_hills = Housing('Mansion', 8000, 6, 1000000,1964)  \n",
    "fresno_home = Housing('suburb', 1000, 3, 200000, 1990)\n",
    "beverley_hills.rent()\n",
    "fresno_home.rent()"
   ]
  },
  {
   "cell_type": "code",
   "execution_count": null,
   "metadata": {},
   "outputs": [],
   "source": []
  }
 ],
 "metadata": {
  "hide_input": false,
  "kernelspec": {
   "display_name": "Python 3",
   "language": "python",
   "name": "python3"
  },
  "language_info": {
   "codemirror_mode": {
    "name": "ipython",
    "version": 3
   },
   "file_extension": ".py",
   "mimetype": "text/x-python",
   "name": "python",
   "nbconvert_exporter": "python",
   "pygments_lexer": "ipython3",
   "version": "3.8.5"
  },
  "toc": {
   "base_numbering": 1,
   "nav_menu": {},
   "number_sections": false,
   "sideBar": false,
   "skip_h1_title": true,
   "title_cell": "Table of Contents",
   "title_sidebar": "Contents",
   "toc_cell": false,
   "toc_position": {},
   "toc_section_display": true,
   "toc_window_display": false
  }
 },
 "nbformat": 4,
 "nbformat_minor": 5
}
