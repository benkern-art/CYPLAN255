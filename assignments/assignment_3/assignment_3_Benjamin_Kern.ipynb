{
 "cells": [
  {
   "cell_type": "markdown",
   "metadata": {},
   "source": [
    "REMEMBER: FIRST CREATE A COPY OF THIS FILE WITH A UNIQUE NAME AND DO YOUR WORK THERE. AND MAKE SURE YOU COMMIT YOUR CHANGES TO THE `hw3_submissions` BRANCH."
   ]
  },
  {
   "cell_type": "markdown",
   "metadata": {},
   "source": [
    "# Assignment 3 | Cleaning and Exploring Data with Pandas\n",
    "\n"
   ]
  },
  {
   "cell_type": "markdown",
   "metadata": {},
   "source": [
    "<img src=\"data/scoreCard.jpg\" width=250>\n",
    "\n",
    "In this assignment, you will investigate restaurant food safety scores for restaurants in San Francisco. Above is a sample score card for a restaurant. The scores and violation information have been made available by the San Francisco Department of Public Health. "
   ]
  },
  {
   "cell_type": "markdown",
   "metadata": {},
   "source": [
    "## Loading Food Safety Data\n",
    "\n",
    "\n",
    "There are 2 files in the data directory:\n",
    "1. business.csv containing food establishments in San Francisco\n",
    "1. inspections.csv containing retaurant inspections records\n",
    "\n",
    "Let's start by loading them into Pandas dataframes.  One of the files, business.csv, has encoding (ISO-8859-1), so you will need to account for that when reading it."
   ]
  },
  {
   "cell_type": "markdown",
   "metadata": {},
   "source": [
    "### Question 1\n",
    "\n",
    "#### Question 1a\n",
    "Read the two files noted above into two pandas dataframes named `bus` and `ins`, respectively. Print the first 5 rows of each to inspect them.\n"
   ]
  },
  {
   "cell_type": "code",
   "execution_count": 1,
   "metadata": {},
   "outputs": [],
   "source": [
    "import pandas as pd"
   ]
  },
  {
   "cell_type": "code",
   "execution_count": 7,
   "metadata": {
    "tags": [
     "solution"
    ]
   },
   "outputs": [],
   "source": [
    "import os \n",
    "bus = pd.read_csv('businesses.csv', encoding='ISO-8859-1')\n",
    "ins = pd.read_csv('inspections.csv')"
   ]
  },
  {
   "cell_type": "code",
   "execution_count": 8,
   "metadata": {},
   "outputs": [
    {
     "data": {
      "text/html": [
       "<div>\n",
       "<style scoped>\n",
       "    .dataframe tbody tr th:only-of-type {\n",
       "        vertical-align: middle;\n",
       "    }\n",
       "\n",
       "    .dataframe tbody tr th {\n",
       "        vertical-align: top;\n",
       "    }\n",
       "\n",
       "    .dataframe thead th {\n",
       "        text-align: right;\n",
       "    }\n",
       "</style>\n",
       "<table border=\"1\" class=\"dataframe\">\n",
       "  <thead>\n",
       "    <tr style=\"text-align: right;\">\n",
       "      <th></th>\n",
       "      <th>business_id</th>\n",
       "      <th>name</th>\n",
       "      <th>address</th>\n",
       "      <th>city</th>\n",
       "      <th>state</th>\n",
       "      <th>postal_code</th>\n",
       "      <th>latitude</th>\n",
       "      <th>longitude</th>\n",
       "      <th>phone_number</th>\n",
       "    </tr>\n",
       "  </thead>\n",
       "  <tbody>\n",
       "    <tr>\n",
       "      <th>0</th>\n",
       "      <td>10</td>\n",
       "      <td>TIRAMISU KITCHEN</td>\n",
       "      <td>033 BELDEN PL</td>\n",
       "      <td>San Francisco</td>\n",
       "      <td>CA</td>\n",
       "      <td>94104</td>\n",
       "      <td>37.791116</td>\n",
       "      <td>-122.403816</td>\n",
       "      <td>+14154217044</td>\n",
       "    </tr>\n",
       "    <tr>\n",
       "      <th>1</th>\n",
       "      <td>19</td>\n",
       "      <td>NRGIZE LIFESTYLE CAFE</td>\n",
       "      <td>1200 VAN NESS AVE, 3RD FLOOR</td>\n",
       "      <td>San Francisco</td>\n",
       "      <td>CA</td>\n",
       "      <td>94109</td>\n",
       "      <td>37.786848</td>\n",
       "      <td>-122.421547</td>\n",
       "      <td>+14157763262</td>\n",
       "    </tr>\n",
       "    <tr>\n",
       "      <th>2</th>\n",
       "      <td>24</td>\n",
       "      <td>OMNI S.F. HOTEL - 2ND FLOOR PANTRY</td>\n",
       "      <td>500 CALIFORNIA ST, 2ND  FLOOR</td>\n",
       "      <td>San Francisco</td>\n",
       "      <td>CA</td>\n",
       "      <td>94104</td>\n",
       "      <td>37.792888</td>\n",
       "      <td>-122.403135</td>\n",
       "      <td>+14156779494</td>\n",
       "    </tr>\n",
       "    <tr>\n",
       "      <th>3</th>\n",
       "      <td>31</td>\n",
       "      <td>NORMAN'S ICE CREAM AND FREEZES</td>\n",
       "      <td>2801 LEAVENWORTH ST</td>\n",
       "      <td>San Francisco</td>\n",
       "      <td>CA</td>\n",
       "      <td>94133</td>\n",
       "      <td>37.807155</td>\n",
       "      <td>-122.419004</td>\n",
       "      <td>NaN</td>\n",
       "    </tr>\n",
       "    <tr>\n",
       "      <th>4</th>\n",
       "      <td>45</td>\n",
       "      <td>CHARLIE'S DELI CAFE</td>\n",
       "      <td>3202 FOLSOM ST</td>\n",
       "      <td>San Francisco</td>\n",
       "      <td>CA</td>\n",
       "      <td>94110</td>\n",
       "      <td>37.747114</td>\n",
       "      <td>-122.413641</td>\n",
       "      <td>+14156415051</td>\n",
       "    </tr>\n",
       "  </tbody>\n",
       "</table>\n",
       "</div>"
      ],
      "text/plain": [
       "   business_id                                name  \\\n",
       "0           10                    TIRAMISU KITCHEN   \n",
       "1           19               NRGIZE LIFESTYLE CAFE   \n",
       "2           24  OMNI S.F. HOTEL - 2ND FLOOR PANTRY   \n",
       "3           31      NORMAN'S ICE CREAM AND FREEZES   \n",
       "4           45                 CHARLIE'S DELI CAFE   \n",
       "\n",
       "                         address           city state postal_code   latitude  \\\n",
       "0                  033 BELDEN PL  San Francisco    CA       94104  37.791116   \n",
       "1   1200 VAN NESS AVE, 3RD FLOOR  San Francisco    CA       94109  37.786848   \n",
       "2  500 CALIFORNIA ST, 2ND  FLOOR  San Francisco    CA       94104  37.792888   \n",
       "3           2801 LEAVENWORTH ST   San Francisco    CA       94133  37.807155   \n",
       "4                3202 FOLSOM ST   San Francisco    CA       94110  37.747114   \n",
       "\n",
       "    longitude  phone_number  \n",
       "0 -122.403816  +14154217044  \n",
       "1 -122.421547  +14157763262  \n",
       "2 -122.403135  +14156779494  \n",
       "3 -122.419004           NaN  \n",
       "4 -122.413641  +14156415051  "
      ]
     },
     "execution_count": 8,
     "metadata": {},
     "output_type": "execute_result"
    }
   ],
   "source": [
    "bus.head()"
   ]
  },
  {
   "cell_type": "code",
   "execution_count": 9,
   "metadata": {},
   "outputs": [
    {
     "data": {
      "text/html": [
       "<div>\n",
       "<style scoped>\n",
       "    .dataframe tbody tr th:only-of-type {\n",
       "        vertical-align: middle;\n",
       "    }\n",
       "\n",
       "    .dataframe tbody tr th {\n",
       "        vertical-align: top;\n",
       "    }\n",
       "\n",
       "    .dataframe thead th {\n",
       "        text-align: right;\n",
       "    }\n",
       "</style>\n",
       "<table border=\"1\" class=\"dataframe\">\n",
       "  <thead>\n",
       "    <tr style=\"text-align: right;\">\n",
       "      <th></th>\n",
       "      <th>business_id</th>\n",
       "      <th>score</th>\n",
       "      <th>date</th>\n",
       "      <th>type</th>\n",
       "    </tr>\n",
       "  </thead>\n",
       "  <tbody>\n",
       "    <tr>\n",
       "      <th>0</th>\n",
       "      <td>10</td>\n",
       "      <td>82</td>\n",
       "      <td>20160503</td>\n",
       "      <td>routine</td>\n",
       "    </tr>\n",
       "    <tr>\n",
       "      <th>1</th>\n",
       "      <td>10</td>\n",
       "      <td>94</td>\n",
       "      <td>20140729</td>\n",
       "      <td>routine</td>\n",
       "    </tr>\n",
       "    <tr>\n",
       "      <th>2</th>\n",
       "      <td>10</td>\n",
       "      <td>92</td>\n",
       "      <td>20140114</td>\n",
       "      <td>routine</td>\n",
       "    </tr>\n",
       "    <tr>\n",
       "      <th>3</th>\n",
       "      <td>19</td>\n",
       "      <td>94</td>\n",
       "      <td>20160513</td>\n",
       "      <td>routine</td>\n",
       "    </tr>\n",
       "    <tr>\n",
       "      <th>4</th>\n",
       "      <td>19</td>\n",
       "      <td>94</td>\n",
       "      <td>20141110</td>\n",
       "      <td>routine</td>\n",
       "    </tr>\n",
       "  </tbody>\n",
       "</table>\n",
       "</div>"
      ],
      "text/plain": [
       "   business_id  score      date     type\n",
       "0           10     82  20160503  routine\n",
       "1           10     94  20140729  routine\n",
       "2           10     92  20140114  routine\n",
       "3           19     94  20160513  routine\n",
       "4           19     94  20141110  routine"
      ]
     },
     "execution_count": 9,
     "metadata": {},
     "output_type": "execute_result"
    }
   ],
   "source": [
    "ins.head()"
   ]
  },
  {
   "cell_type": "markdown",
   "metadata": {},
   "source": [
    "## Examining the Business data\n",
    "\n",
    "From its name alone, we expect the `businesses.csv` file to contain information about the restaurants. Let's investigate this dataset."
   ]
  },
  {
   "cell_type": "markdown",
   "metadata": {},
   "source": [
    "### Question 2\n",
    "\n",
    "#### Question 2a: How many records are there?"
   ]
  },
  {
   "cell_type": "code",
   "execution_count": 10,
   "metadata": {
    "scrolled": true,
    "tags": [
     "solution"
    ]
   },
   "outputs": [
    {
     "name": "stdout",
     "output_type": "stream",
     "text": [
      "How many records are there:  6315\n"
     ]
    }
   ],
   "source": [
    "print('How many records are there: ', len(bus))"
   ]
  },
  {
   "cell_type": "markdown",
   "metadata": {},
   "source": [
    "#### Question 2b: How many unique business IDs are there?  "
   ]
  },
  {
   "cell_type": "code",
   "execution_count": 13,
   "metadata": {},
   "outputs": [
    {
     "name": "stdout",
     "output_type": "stream",
     "text": [
      "How many unique business IDs:  6315\n"
     ]
    }
   ],
   "source": [
    "print('How many unique business IDs: ', len(bus.groupby('business_id')['business_id'].count()))"
   ]
  },
  {
   "cell_type": "markdown",
   "metadata": {},
   "source": [
    "#### Question 2c: What are the 5 most common businesses by name, and how many are there in San Francisco?"
   ]
  },
  {
   "cell_type": "code",
   "execution_count": 38,
   "metadata": {},
   "outputs": [
    {
     "name": "stdout",
     "output_type": "stream",
     "text": [
      "top five businesses are Starbucks, Peet's Coffee, Mcdonalds, Walgreens, and SF Soup Company\n",
      "                            count\n",
      "name                             \n",
      "STARBUCKS COFFEE               72\n",
      "PEET'S COFFEE & TEA            24\n",
      "MCDONALDS                      12\n",
      "WALGREENS                      11\n",
      "SAN FRANCISCO SOUP COMPANY     11\n"
     ]
    },
    {
     "data": {
      "text/plain": [
       "name\n",
       "MCDONALDS                     12\n",
       "PEET'S COFFEE & TEA           24\n",
       "SAN FRANCISCO SOUP COMPANY    11\n",
       "STARBUCKS COFFEE              72\n",
       "WALGREENS                     11\n",
       "Name: name, dtype: int64"
      ]
     },
     "execution_count": 38,
     "metadata": {},
     "output_type": "execute_result"
    }
   ],
   "source": [
    "print(\"top five businesses are Starbucks, Peet's Coffee, Mcdonalds, Walgreens, and SF Soup Company\")\n",
    "top_5 = bus.groupby('name')['name'].count().to_frame('count').sort_values(by = 'count', ascending = False).head()\n",
    "print(top_5)\n",
    "top_5 = top_5.reset_index()['name'].to_list()\n",
    "# How many are there in San Francisco? \n",
    "bus[(bus['name'].isin(top_5)) &(bus['city'] == 'San Francisco')].groupby('name')['name'].count()"
   ]
  },
  {
   "cell_type": "markdown",
   "metadata": {
    "tags": [
     "written"
    ]
   },
   "source": [
    "## Zip code\n",
    "\n",
    "Next, let's  explore some of the variables in the business table. We begin by examining the postal code.\n",
    "\n",
    "### Question 3\n",
    "\n",
    "#### Question 3a\n",
    "How are the zip code values stored in python (i.e. data type)?\n",
    "\n",
    "To answer this you might want to examine a particular entry."
   ]
  },
  {
   "cell_type": "code",
   "execution_count": 43,
   "metadata": {
    "tags": [
     "solution"
    ]
   },
   "outputs": [
    {
     "name": "stdout",
     "output_type": "stream",
     "text": [
      "data type of zip codes is Object\n"
     ]
    }
   ],
   "source": [
    "bus['postal_code'].dtype\n",
    "print('data type of zip codes is Object')"
   ]
  },
  {
   "cell_type": "code",
   "execution_count": null,
   "metadata": {},
   "outputs": [],
   "source": []
  },
  {
   "cell_type": "markdown",
   "metadata": {},
   "source": [
    "#### Question 3b\n",
    "\n",
    "What are the unique values of postal_code?"
   ]
  },
  {
   "cell_type": "code",
   "execution_count": 44,
   "metadata": {
    "scrolled": false
   },
   "outputs": [
    {
     "data": {
      "text/plain": [
       "array(['94104', '94109', '94133', '94110', '94122', '94103', '94115',\n",
       "       '94131', '94111', '94117', '94107', '94108', '94102', '94132',\n",
       "       '94105', '94134', '94124', '94116', '94121', '94118', '94112',\n",
       "       '94123', '94114', '94127', '941102019', '941', '94545', '94066',\n",
       "       '941033148', nan, '94158', '95105', '94013', '94130', 'CA',\n",
       "       '92672', '94120', '94143', '94609', '94101', '00000', '94188',\n",
       "       '94621', '94014', '94129', '94602', 'Ca'], dtype=object)"
      ]
     },
     "execution_count": 44,
     "metadata": {},
     "output_type": "execute_result"
    }
   ],
   "source": [
    "bus['postal_code'].unique()"
   ]
  },
  {
   "cell_type": "markdown",
   "metadata": {},
   "source": [
    "#### Question 3c\n",
    "\n",
    "Let's say we decide to exclude the businesses that have no zipcode for our analysis (which might include food trucks for example).  Use the list of valid 5-digit zip codes below to create a new dataframe called bus_valid, with only businesses whose postal_codes show up in this list of valid zipcodes. How many businesses are there in this new dataframe?"
   ]
  },
  {
   "cell_type": "code",
   "execution_count": 93,
   "metadata": {},
   "outputs": [],
   "source": [
    "validZip = [\"94102\", \"94103\", \"94104\", \"94105\", \"94107\", \"94108\",\n",
    "            \"94109\", \"94110\", \"94111\", \"94112\", \"94114\", \"94115\",\n",
    "            \"94116\", \"94117\", \"94118\", \"94121\", \"94122\", \"94123\", \n",
    "            \"94124\", \"94127\", \"94131\", \"94132\", \"94133\", \"94134\"]"
   ]
  },
  {
   "cell_type": "code",
   "execution_count": 94,
   "metadata": {},
   "outputs": [],
   "source": [
    "vb = bus[bus['postal_code'].isin(validZip)]"
   ]
  },
  {
   "cell_type": "markdown",
   "metadata": {},
   "source": [
    "## Latitude and Longitude\n",
    "\n",
    "Another aspect of the data we want to consider is the prevalence of missing values. If many records have missing values then we might be concerned about whether the nonmissing values are representative of the population.\n",
    "\n",
    "### Question 4\n",
    " \n",
    "Consider the longitude and latitude in the business DataFrame. \n",
    "\n",
    "#### Question 4a\n",
    "\n",
    "How many businesses are missing longitude values, working with only the businesses that are in the list of valid zipcodes?"
   ]
  },
  {
   "cell_type": "code",
   "execution_count": 95,
   "metadata": {
    "tags": [
     "solution"
    ]
   },
   "outputs": [
    {
     "name": "stdout",
     "output_type": "stream",
     "text": [
      "number of null values for longitude column ; 2483\n"
     ]
    }
   ],
   "source": [
    "print('number of null values for longitude column ;', len(vb[pd.isnull(vb['longitude'])]))"
   ]
  },
  {
   "cell_type": "markdown",
   "metadata": {},
   "source": [
    "#### Question 4b\n",
    "\n",
    "Create a new dataframe with one row for each valid zipcode. The dataframe should include the following three columns:\n",
    "\n",
    "1. `postal_code`: Contains the zip codes in the `validZip` variable above.\n",
    "2. `null_lon`: The number of businesses in that zipcode with missing `longitude` values.\n",
    "3. `not_null_lon`: The number of businesses without missing `longitude` values."
   ]
  },
  {
   "cell_type": "code",
   "execution_count": 96,
   "metadata": {
    "scrolled": false
   },
   "outputs": [
    {
     "name": "stderr",
     "output_type": "stream",
     "text": [
      "<ipython-input-96-c9a8b5069cc1>:2: SettingWithCopyWarning: \n",
      "A value is trying to be set on a copy of a slice from a DataFrame.\n",
      "Try using .loc[row_indexer,col_indexer] = value instead\n",
      "\n",
      "See the caveats in the documentation: https://pandas.pydata.org/pandas-docs/stable/user_guide/indexing.html#returning-a-view-versus-a-copy\n",
      "  vb['null_lon'] = (vb['longitude'].isna())*1\n"
     ]
    },
    {
     "data": {
      "text/html": [
       "<div>\n",
       "<style scoped>\n",
       "    .dataframe tbody tr th:only-of-type {\n",
       "        vertical-align: middle;\n",
       "    }\n",
       "\n",
       "    .dataframe tbody tr th {\n",
       "        vertical-align: top;\n",
       "    }\n",
       "\n",
       "    .dataframe thead th {\n",
       "        text-align: right;\n",
       "    }\n",
       "</style>\n",
       "<table border=\"1\" class=\"dataframe\">\n",
       "  <thead>\n",
       "    <tr style=\"text-align: right;\">\n",
       "      <th></th>\n",
       "      <th></th>\n",
       "      <th>postal_code</th>\n",
       "    </tr>\n",
       "    <tr>\n",
       "      <th>postal_code</th>\n",
       "      <th>null_lon</th>\n",
       "      <th></th>\n",
       "    </tr>\n",
       "  </thead>\n",
       "  <tbody>\n",
       "    <tr>\n",
       "      <th rowspan=\"2\" valign=\"top\">94102</th>\n",
       "      <th>0</th>\n",
       "      <td>262</td>\n",
       "    </tr>\n",
       "    <tr>\n",
       "      <th>1</th>\n",
       "      <td>196</td>\n",
       "    </tr>\n",
       "    <tr>\n",
       "      <th rowspan=\"2\" valign=\"top\">94103</th>\n",
       "      <th>0</th>\n",
       "      <td>306</td>\n",
       "    </tr>\n",
       "    <tr>\n",
       "      <th>1</th>\n",
       "      <td>252</td>\n",
       "    </tr>\n",
       "    <tr>\n",
       "      <th>94104</th>\n",
       "      <th>0</th>\n",
       "      <td>74</td>\n",
       "    </tr>\n",
       "  </tbody>\n",
       "</table>\n",
       "</div>"
      ],
      "text/plain": [
       "                      postal_code\n",
       "postal_code null_lon             \n",
       "94102       0                 262\n",
       "            1                 196\n",
       "94103       0                 306\n",
       "            1                 252\n",
       "94104       0                  74"
      ]
     },
     "execution_count": 96,
     "metadata": {},
     "output_type": "execute_result"
    }
   ],
   "source": [
    "len(vb)\n",
    "vb['null_lon'] = (vb['longitude'].isna())*1\n",
    "missing_vb = vb.groupby(['postal_code', 'null_lon'])['postal_code'].count().to_frame()\n",
    "missing_vb.head()"
   ]
  },
  {
   "cell_type": "markdown",
   "metadata": {},
   "source": [
    "#### 4c. Do any zip codes appear to have more than their 'fair share' of missing longitude? \n",
    "\n",
    "To answer this, you will want to compute the proportion of missing longitude values for each zip code, and print the proportion missing longitude, and print the top five zipcodes in descending order of proportion missing postal_code.\n"
   ]
  },
  {
   "cell_type": "code",
   "execution_count": 128,
   "metadata": {},
   "outputs": [
    {
     "data": {
      "text/html": [
       "<div>\n",
       "<style scoped>\n",
       "    .dataframe tbody tr th:only-of-type {\n",
       "        vertical-align: middle;\n",
       "    }\n",
       "\n",
       "    .dataframe tbody tr th {\n",
       "        vertical-align: top;\n",
       "    }\n",
       "\n",
       "    .dataframe thead th {\n",
       "        text-align: right;\n",
       "    }\n",
       "</style>\n",
       "<table border=\"1\" class=\"dataframe\">\n",
       "  <thead>\n",
       "    <tr style=\"text-align: right;\">\n",
       "      <th></th>\n",
       "      <th>postal_code</th>\n",
       "      <th>proportions missing</th>\n",
       "    </tr>\n",
       "  </thead>\n",
       "  <tbody>\n",
       "    <tr>\n",
       "      <th>4</th>\n",
       "      <td>94107</td>\n",
       "      <td>0.547672</td>\n",
       "    </tr>\n",
       "    <tr>\n",
       "      <th>18</th>\n",
       "      <td>94124</td>\n",
       "      <td>0.536585</td>\n",
       "    </tr>\n",
       "    <tr>\n",
       "      <th>21</th>\n",
       "      <td>94132</td>\n",
       "      <td>0.485075</td>\n",
       "    </tr>\n",
       "    <tr>\n",
       "      <th>10</th>\n",
       "      <td>94114</td>\n",
       "      <td>0.469565</td>\n",
       "    </tr>\n",
       "    <tr>\n",
       "      <th>16</th>\n",
       "      <td>94122</td>\n",
       "      <td>0.455556</td>\n",
       "    </tr>\n",
       "    <tr>\n",
       "      <th>1</th>\n",
       "      <td>94103</td>\n",
       "      <td>0.451613</td>\n",
       "    </tr>\n",
       "    <tr>\n",
       "      <th>2</th>\n",
       "      <td>94104</td>\n",
       "      <td>0.443609</td>\n",
       "    </tr>\n",
       "    <tr>\n",
       "      <th>3</th>\n",
       "      <td>94105</td>\n",
       "      <td>0.442478</td>\n",
       "    </tr>\n",
       "    <tr>\n",
       "      <th>7</th>\n",
       "      <td>94110</td>\n",
       "      <td>0.429060</td>\n",
       "    </tr>\n",
       "    <tr>\n",
       "      <th>0</th>\n",
       "      <td>94102</td>\n",
       "      <td>0.427948</td>\n",
       "    </tr>\n",
       "    <tr>\n",
       "      <th>14</th>\n",
       "      <td>94118</td>\n",
       "      <td>0.411523</td>\n",
       "    </tr>\n",
       "    <tr>\n",
       "      <th>8</th>\n",
       "      <td>94111</td>\n",
       "      <td>0.407801</td>\n",
       "    </tr>\n",
       "    <tr>\n",
       "      <th>19</th>\n",
       "      <td>94127</td>\n",
       "      <td>0.394366</td>\n",
       "    </tr>\n",
       "    <tr>\n",
       "      <th>23</th>\n",
       "      <td>94134</td>\n",
       "      <td>0.391892</td>\n",
       "    </tr>\n",
       "    <tr>\n",
       "      <th>6</th>\n",
       "      <td>94109</td>\n",
       "      <td>0.381201</td>\n",
       "    </tr>\n",
       "    <tr>\n",
       "      <th>12</th>\n",
       "      <td>94116</td>\n",
       "      <td>0.376344</td>\n",
       "    </tr>\n",
       "    <tr>\n",
       "      <th>5</th>\n",
       "      <td>94108</td>\n",
       "      <td>0.366071</td>\n",
       "    </tr>\n",
       "    <tr>\n",
       "      <th>15</th>\n",
       "      <td>94121</td>\n",
       "      <td>0.341615</td>\n",
       "    </tr>\n",
       "    <tr>\n",
       "      <th>13</th>\n",
       "      <td>94117</td>\n",
       "      <td>0.340102</td>\n",
       "    </tr>\n",
       "    <tr>\n",
       "      <th>22</th>\n",
       "      <td>94133</td>\n",
       "      <td>0.323741</td>\n",
       "    </tr>\n",
       "    <tr>\n",
       "      <th>11</th>\n",
       "      <td>94115</td>\n",
       "      <td>0.319328</td>\n",
       "    </tr>\n",
       "    <tr>\n",
       "      <th>17</th>\n",
       "      <td>94123</td>\n",
       "      <td>0.313609</td>\n",
       "    </tr>\n",
       "    <tr>\n",
       "      <th>9</th>\n",
       "      <td>94112</td>\n",
       "      <td>0.310526</td>\n",
       "    </tr>\n",
       "    <tr>\n",
       "      <th>20</th>\n",
       "      <td>94131</td>\n",
       "      <td>0.291667</td>\n",
       "    </tr>\n",
       "  </tbody>\n",
       "</table>\n",
       "</div>"
      ],
      "text/plain": [
       "   postal_code  proportions missing\n",
       "4        94107             0.547672\n",
       "18       94124             0.536585\n",
       "21       94132             0.485075\n",
       "10       94114             0.469565\n",
       "16       94122             0.455556\n",
       "1        94103             0.451613\n",
       "2        94104             0.443609\n",
       "3        94105             0.442478\n",
       "7        94110             0.429060\n",
       "0        94102             0.427948\n",
       "14       94118             0.411523\n",
       "8        94111             0.407801\n",
       "19       94127             0.394366\n",
       "23       94134             0.391892\n",
       "6        94109             0.381201\n",
       "12       94116             0.376344\n",
       "5        94108             0.366071\n",
       "15       94121             0.341615\n",
       "13       94117             0.340102\n",
       "22       94133             0.323741\n",
       "11       94115             0.319328\n",
       "17       94123             0.313609\n",
       "9        94112             0.310526\n",
       "20       94131             0.291667"
      ]
     },
     "execution_count": 128,
     "metadata": {},
     "output_type": "execute_result"
    }
   ],
   "source": [
    "\n",
    "missing_vb_1 = missing_vb.rename(columns = {'postal_code': 'postal code count'}).reset_index()\n",
    "# sum across postal codes and divide entries by sum \n",
    "sum_per_code = missing_vb_1.groupby('postal_code')['postal code count'].sum()\n",
    "missing_vb_rows = missing_vb_1[missing_vb_1['null_lon'] == 1]\n",
    "# merge the two datasets\n",
    "proportions = sum_per_code.to_frame().reset_index().merge(missing_vb_rows, left_on = 'postal_code', right_on = 'postal_code')\n",
    "# create new column for proportion of missing longitudes\n",
    "proportions['proportions missing'] = proportions['postal code count_y'] / proportions['postal code count_x']\n",
    "proportions.loc[:,['postal_code', 'proportions missing']].sort_values(by = 'proportions missing', ascending = False)"
   ]
  },
  {
   "cell_type": "markdown",
   "metadata": {},
   "source": [
    "# Investigate the inspection data\n",
    "\n",
    "Let's now turn to the inspection DataFrame. Earlier, we found that `ins` has 4 columns, these are named `business_id`, `score`, `date` and `type`.  In this section, we determine the granularity of `ins` and investigate the kinds of information provided for the inspections. \n",
    "\n",
    "### Question 5\n",
    "\n",
    "#### Question 5a\n",
    "As with the business data, assess whether there is one inspection record for each business, by counting how many rows are in the data and how many unique businesses there are in the data. If they are exactly the same number, it means there is only one inspection per business, clearly."
   ]
  },
  {
   "cell_type": "code",
   "execution_count": 132,
   "metadata": {
    "tags": [
     "solution"
    ]
   },
   "outputs": [
    {
     "name": "stdout",
     "output_type": "stream",
     "text": [
      "unique rows in the data ; 5730\n"
     ]
    }
   ],
   "source": [
    "print('unique rows in the data ;', len(ins['business_id'].unique()))"
   ]
  },
  {
   "cell_type": "code",
   "execution_count": 134,
   "metadata": {},
   "outputs": [
    {
     "name": "stdout",
     "output_type": "stream",
     "text": [
      "length of dataset:  15430\n"
     ]
    }
   ],
   "source": [
    "print('length of dataset: ', len(ins['business_id']))"
   ]
  },
  {
   "cell_type": "markdown",
   "metadata": {},
   "source": [
    "#### Question 5b\n",
    "\n",
    "What values does `type` take on? How many occurrences of each value is in the DataFrame? Create a new dataframe named `ins2` by copying `ins` and keeping only records with values of `type` that occur more than 10 times in the original table. In other words, eliminate records that have values of `type` that occur rarely (< 10 times). Check the result to make sure rare types are eliminated."
   ]
  },
  {
   "cell_type": "code",
   "execution_count": 162,
   "metadata": {
    "tags": [
     "solution",
     "written"
    ]
   },
   "outputs": [
    {
     "data": {
      "text/plain": [
       "type\n",
       "complaint        1\n",
       "routine      15429\n",
       "Name: type, dtype: int64"
      ]
     },
     "execution_count": 162,
     "metadata": {},
     "output_type": "execute_result"
    }
   ],
   "source": [
    "ins['type'].dtype\n",
    "ins2 = ins.copy()\n",
    "ins2.groupby('type')['type'].count()"
   ]
  },
  {
   "cell_type": "code",
   "execution_count": 163,
   "metadata": {},
   "outputs": [
    {
     "data": {
      "text/html": [
       "<div>\n",
       "<style scoped>\n",
       "    .dataframe tbody tr th:only-of-type {\n",
       "        vertical-align: middle;\n",
       "    }\n",
       "\n",
       "    .dataframe tbody tr th {\n",
       "        vertical-align: top;\n",
       "    }\n",
       "\n",
       "    .dataframe thead th {\n",
       "        text-align: right;\n",
       "    }\n",
       "</style>\n",
       "<table border=\"1\" class=\"dataframe\">\n",
       "  <thead>\n",
       "    <tr style=\"text-align: right;\">\n",
       "      <th></th>\n",
       "      <th>business_id</th>\n",
       "      <th>score</th>\n",
       "      <th>date</th>\n",
       "      <th>type</th>\n",
       "    </tr>\n",
       "  </thead>\n",
       "  <tbody>\n",
       "    <tr>\n",
       "      <th>0</th>\n",
       "      <td>10</td>\n",
       "      <td>82</td>\n",
       "      <td>20160503</td>\n",
       "      <td>routine</td>\n",
       "    </tr>\n",
       "    <tr>\n",
       "      <th>1</th>\n",
       "      <td>10</td>\n",
       "      <td>94</td>\n",
       "      <td>20140729</td>\n",
       "      <td>routine</td>\n",
       "    </tr>\n",
       "    <tr>\n",
       "      <th>2</th>\n",
       "      <td>10</td>\n",
       "      <td>92</td>\n",
       "      <td>20140114</td>\n",
       "      <td>routine</td>\n",
       "    </tr>\n",
       "    <tr>\n",
       "      <th>3</th>\n",
       "      <td>19</td>\n",
       "      <td>94</td>\n",
       "      <td>20160513</td>\n",
       "      <td>routine</td>\n",
       "    </tr>\n",
       "    <tr>\n",
       "      <th>4</th>\n",
       "      <td>19</td>\n",
       "      <td>94</td>\n",
       "      <td>20141110</td>\n",
       "      <td>routine</td>\n",
       "    </tr>\n",
       "  </tbody>\n",
       "</table>\n",
       "</div>"
      ],
      "text/plain": [
       "   business_id  score      date     type\n",
       "0           10     82  20160503  routine\n",
       "1           10     94  20140729  routine\n",
       "2           10     92  20140114  routine\n",
       "3           19     94  20160513  routine\n",
       "4           19     94  20141110  routine"
      ]
     },
     "execution_count": 163,
     "metadata": {},
     "output_type": "execute_result"
    }
   ],
   "source": [
    "ins2 = ins2[ins2['type'] != 'complaint']\n",
    "ins2.head()"
   ]
  },
  {
   "cell_type": "markdown",
   "metadata": {},
   "source": [
    "#### Question 5c\n",
    "\n",
    "Since the data was stored in a .csv file, the dates are formatted as strings such as `20160503`. Once we read in the data, we would like to have dates in an appropriate format for analysis. Add a new column called `year` by capturing the first four characters of the date column. \n",
    "\n",
    "Hint: we have seen multiple ways of doing this in class, includings `str` operations, `lambda` functions, `datetime` operations, and others. Choose the method that works best for you :)"
   ]
  },
  {
   "cell_type": "code",
   "execution_count": 165,
   "metadata": {},
   "outputs": [
    {
     "data": {
      "text/html": [
       "<div>\n",
       "<style scoped>\n",
       "    .dataframe tbody tr th:only-of-type {\n",
       "        vertical-align: middle;\n",
       "    }\n",
       "\n",
       "    .dataframe tbody tr th {\n",
       "        vertical-align: top;\n",
       "    }\n",
       "\n",
       "    .dataframe thead th {\n",
       "        text-align: right;\n",
       "    }\n",
       "</style>\n",
       "<table border=\"1\" class=\"dataframe\">\n",
       "  <thead>\n",
       "    <tr style=\"text-align: right;\">\n",
       "      <th></th>\n",
       "      <th>business_id</th>\n",
       "      <th>score</th>\n",
       "      <th>date</th>\n",
       "      <th>type</th>\n",
       "      <th>year</th>\n",
       "    </tr>\n",
       "  </thead>\n",
       "  <tbody>\n",
       "    <tr>\n",
       "      <th>0</th>\n",
       "      <td>10</td>\n",
       "      <td>82</td>\n",
       "      <td>20160503</td>\n",
       "      <td>routine</td>\n",
       "      <td>2016</td>\n",
       "    </tr>\n",
       "    <tr>\n",
       "      <th>1</th>\n",
       "      <td>10</td>\n",
       "      <td>94</td>\n",
       "      <td>20140729</td>\n",
       "      <td>routine</td>\n",
       "      <td>2014</td>\n",
       "    </tr>\n",
       "    <tr>\n",
       "      <th>2</th>\n",
       "      <td>10</td>\n",
       "      <td>92</td>\n",
       "      <td>20140114</td>\n",
       "      <td>routine</td>\n",
       "      <td>2014</td>\n",
       "    </tr>\n",
       "    <tr>\n",
       "      <th>3</th>\n",
       "      <td>19</td>\n",
       "      <td>94</td>\n",
       "      <td>20160513</td>\n",
       "      <td>routine</td>\n",
       "      <td>2016</td>\n",
       "    </tr>\n",
       "    <tr>\n",
       "      <th>4</th>\n",
       "      <td>19</td>\n",
       "      <td>94</td>\n",
       "      <td>20141110</td>\n",
       "      <td>routine</td>\n",
       "      <td>2014</td>\n",
       "    </tr>\n",
       "  </tbody>\n",
       "</table>\n",
       "</div>"
      ],
      "text/plain": [
       "   business_id  score      date     type  year\n",
       "0           10     82  20160503  routine  2016\n",
       "1           10     94  20140729  routine  2014\n",
       "2           10     92  20140114  routine  2014\n",
       "3           19     94  20160513  routine  2016\n",
       "4           19     94  20141110  routine  2014"
      ]
     },
     "execution_count": 165,
     "metadata": {},
     "output_type": "execute_result"
    }
   ],
   "source": [
    "from datetime import datetime\n",
    "ins2['date'] = ins2['date'].apply(str)\n",
    "ins2['year'] = ins2['date'].apply(lambda x: x[0:4])\n",
    "ins2.head()"
   ]
  },
  {
   "cell_type": "markdown",
   "metadata": {
    "tags": [
     "written"
    ]
   },
   "source": [
    "#### Question 5d\n",
    "\n",
    "What range of years is covered in this data set? Are there roughly same number of inspections each year? Try dropping records for any years with less than 50 inspections and store the result in a new dataframe named `ins3`."
   ]
  },
  {
   "cell_type": "code",
   "execution_count": 166,
   "metadata": {
    "scrolled": true,
    "tags": [
     "solution",
     "written"
    ]
   },
   "outputs": [
    {
     "data": {
      "text/plain": [
       "array(['2016', '2014', '2015', '2013'], dtype=object)"
      ]
     },
     "execution_count": 166,
     "metadata": {},
     "output_type": "execute_result"
    }
   ],
   "source": [
    "# range of years \n",
    "ins2['year'].unique()"
   ]
  },
  {
   "cell_type": "code",
   "execution_count": 168,
   "metadata": {},
   "outputs": [
    {
     "data": {
      "text/plain": [
       "year\n",
       "2013      38\n",
       "2014    5629\n",
       "2015    3923\n",
       "2016    5839\n",
       "Name: year, dtype: int64"
      ]
     },
     "execution_count": 168,
     "metadata": {},
     "output_type": "execute_result"
    }
   ],
   "source": [
    "ins2.groupby(['year'])['year'].count()"
   ]
  },
  {
   "cell_type": "code",
   "execution_count": 171,
   "metadata": {},
   "outputs": [
    {
     "data": {
      "text/html": [
       "<div>\n",
       "<style scoped>\n",
       "    .dataframe tbody tr th:only-of-type {\n",
       "        vertical-align: middle;\n",
       "    }\n",
       "\n",
       "    .dataframe tbody tr th {\n",
       "        vertical-align: top;\n",
       "    }\n",
       "\n",
       "    .dataframe thead th {\n",
       "        text-align: right;\n",
       "    }\n",
       "</style>\n",
       "<table border=\"1\" class=\"dataframe\">\n",
       "  <thead>\n",
       "    <tr style=\"text-align: right;\">\n",
       "      <th></th>\n",
       "      <th>business_id</th>\n",
       "      <th>score</th>\n",
       "      <th>date</th>\n",
       "      <th>type</th>\n",
       "      <th>year</th>\n",
       "    </tr>\n",
       "  </thead>\n",
       "  <tbody>\n",
       "    <tr>\n",
       "      <th>0</th>\n",
       "      <td>10</td>\n",
       "      <td>82</td>\n",
       "      <td>20160503</td>\n",
       "      <td>routine</td>\n",
       "      <td>2016</td>\n",
       "    </tr>\n",
       "    <tr>\n",
       "      <th>1</th>\n",
       "      <td>10</td>\n",
       "      <td>94</td>\n",
       "      <td>20140729</td>\n",
       "      <td>routine</td>\n",
       "      <td>2014</td>\n",
       "    </tr>\n",
       "    <tr>\n",
       "      <th>2</th>\n",
       "      <td>10</td>\n",
       "      <td>92</td>\n",
       "      <td>20140114</td>\n",
       "      <td>routine</td>\n",
       "      <td>2014</td>\n",
       "    </tr>\n",
       "    <tr>\n",
       "      <th>3</th>\n",
       "      <td>19</td>\n",
       "      <td>94</td>\n",
       "      <td>20160513</td>\n",
       "      <td>routine</td>\n",
       "      <td>2016</td>\n",
       "    </tr>\n",
       "    <tr>\n",
       "      <th>4</th>\n",
       "      <td>19</td>\n",
       "      <td>94</td>\n",
       "      <td>20141110</td>\n",
       "      <td>routine</td>\n",
       "      <td>2014</td>\n",
       "    </tr>\n",
       "  </tbody>\n",
       "</table>\n",
       "</div>"
      ],
      "text/plain": [
       "   business_id  score      date     type  year\n",
       "0           10     82  20160503  routine  2016\n",
       "1           10     94  20140729  routine  2014\n",
       "2           10     92  20140114  routine  2014\n",
       "3           19     94  20160513  routine  2016\n",
       "4           19     94  20141110  routine  2014"
      ]
     },
     "execution_count": 171,
     "metadata": {},
     "output_type": "execute_result"
    }
   ],
   "source": [
    "# drop years with less than 50 entries \n",
    "ins2 = ins2[ins2['year'] != '2013']\n",
    "ins2.head()"
   ]
  },
  {
   "cell_type": "markdown",
   "metadata": {},
   "source": [
    "Let's examine only the inspections for one year: 2016. This puts businesses on a more equal footing because [inspection guidelines](https://www.sfdph.org/dph/eh/Food/Inspections.asp) generally refer to how many inspections should occur in a given year."
   ]
  },
  {
   "cell_type": "code",
   "execution_count": 172,
   "metadata": {},
   "outputs": [],
   "source": [
    "ins2_2016 = ins2[ins2['year'] != '2016']"
   ]
  },
  {
   "cell_type": "markdown",
   "metadata": {},
   "source": [
    "### Question 6\n",
    "\n",
    "#### Question 6a\n",
    "\n",
    "Merge the business and 2016 inspections data, keeping all businesses regardless of whether they show up in the inspections file. Show the first several rows of the resulting dataframe."
   ]
  },
  {
   "cell_type": "code",
   "execution_count": 177,
   "metadata": {
    "scrolled": true
   },
   "outputs": [],
   "source": [
    "merged_dataset = vb.merge(ins2_2016, left_on = 'business_id', right_on = 'business_id' )"
   ]
  },
  {
   "cell_type": "markdown",
   "metadata": {},
   "source": [
    "#### Question 6b\n",
    "Print the 20 lowest rated businesses names, their addresses, and their ratings."
   ]
  },
  {
   "cell_type": "code",
   "execution_count": 181,
   "metadata": {
    "scrolled": true
   },
   "outputs": [
    {
     "data": {
      "text/html": [
       "<div>\n",
       "<style scoped>\n",
       "    .dataframe tbody tr th:only-of-type {\n",
       "        vertical-align: middle;\n",
       "    }\n",
       "\n",
       "    .dataframe tbody tr th {\n",
       "        vertical-align: top;\n",
       "    }\n",
       "\n",
       "    .dataframe thead th {\n",
       "        text-align: right;\n",
       "    }\n",
       "</style>\n",
       "<table border=\"1\" class=\"dataframe\">\n",
       "  <thead>\n",
       "    <tr style=\"text-align: right;\">\n",
       "      <th></th>\n",
       "      <th>business_id</th>\n",
       "      <th>name</th>\n",
       "      <th>address</th>\n",
       "      <th>city</th>\n",
       "      <th>state</th>\n",
       "      <th>postal_code</th>\n",
       "      <th>latitude</th>\n",
       "      <th>longitude</th>\n",
       "      <th>phone_number</th>\n",
       "      <th>null_lon</th>\n",
       "      <th>score</th>\n",
       "      <th>date</th>\n",
       "      <th>type</th>\n",
       "      <th>year</th>\n",
       "    </tr>\n",
       "  </thead>\n",
       "  <tbody>\n",
       "    <tr>\n",
       "      <th>6836</th>\n",
       "      <td>68633</td>\n",
       "      <td>ABC BAKERY CAFE</td>\n",
       "      <td>650 JACKSON ST</td>\n",
       "      <td>San Francisco</td>\n",
       "      <td>CA</td>\n",
       "      <td>94133</td>\n",
       "      <td>37.796133</td>\n",
       "      <td>-122.406237</td>\n",
       "      <td>+14159810803</td>\n",
       "      <td>0</td>\n",
       "      <td>46</td>\n",
       "      <td>20140512</td>\n",
       "      <td>routine</td>\n",
       "      <td>2014</td>\n",
       "    </tr>\n",
       "    <tr>\n",
       "      <th>4107</th>\n",
       "      <td>18480</td>\n",
       "      <td>IMPERIAL PALACE</td>\n",
       "      <td>818 WASHINGTON ST</td>\n",
       "      <td>San Francisco</td>\n",
       "      <td>CA</td>\n",
       "      <td>94108</td>\n",
       "      <td>37.795138</td>\n",
       "      <td>-122.406863</td>\n",
       "      <td>+14153778715</td>\n",
       "      <td>0</td>\n",
       "      <td>47</td>\n",
       "      <td>20141023</td>\n",
       "      <td>routine</td>\n",
       "      <td>2014</td>\n",
       "    </tr>\n",
       "    <tr>\n",
       "      <th>5980</th>\n",
       "      <td>64154</td>\n",
       "      <td>YUMMY DIM SUM &amp; FAST FOOD, LLC</td>\n",
       "      <td>930 STOCKTON ST</td>\n",
       "      <td>San Francisco</td>\n",
       "      <td>CA</td>\n",
       "      <td>94108</td>\n",
       "      <td>37.794457</td>\n",
       "      <td>-122.407896</td>\n",
       "      <td>+14159862783</td>\n",
       "      <td>0</td>\n",
       "      <td>50</td>\n",
       "      <td>20140507</td>\n",
       "      <td>routine</td>\n",
       "      <td>2014</td>\n",
       "    </tr>\n",
       "    <tr>\n",
       "      <th>1598</th>\n",
       "      <td>3123</td>\n",
       "      <td>LES JOULINS</td>\n",
       "      <td>44 ELLIS ST</td>\n",
       "      <td>San Francisco</td>\n",
       "      <td>CA</td>\n",
       "      <td>94102</td>\n",
       "      <td>NaN</td>\n",
       "      <td>NaN</td>\n",
       "      <td>+14153975397</td>\n",
       "      <td>1</td>\n",
       "      <td>53</td>\n",
       "      <td>20140522</td>\n",
       "      <td>routine</td>\n",
       "      <td>2014</td>\n",
       "    </tr>\n",
       "    <tr>\n",
       "      <th>1583</th>\n",
       "      <td>3115</td>\n",
       "      <td>YEE'S RESTAURANT</td>\n",
       "      <td>1131 GRANT AVE</td>\n",
       "      <td>San Francisco</td>\n",
       "      <td>CA</td>\n",
       "      <td>94133</td>\n",
       "      <td>37.797292</td>\n",
       "      <td>-122.406914</td>\n",
       "      <td>NaN</td>\n",
       "      <td>0</td>\n",
       "      <td>53</td>\n",
       "      <td>20140624</td>\n",
       "      <td>routine</td>\n",
       "      <td>2014</td>\n",
       "    </tr>\n",
       "    <tr>\n",
       "      <th>5553</th>\n",
       "      <td>61436</td>\n",
       "      <td>OZONE THAI RESTAURANT AND LOUNGE</td>\n",
       "      <td>598 02ND ST</td>\n",
       "      <td>San Francisco</td>\n",
       "      <td>CA</td>\n",
       "      <td>94107</td>\n",
       "      <td>37.781947</td>\n",
       "      <td>-122.392239</td>\n",
       "      <td>+14155363266</td>\n",
       "      <td>0</td>\n",
       "      <td>54</td>\n",
       "      <td>20150706</td>\n",
       "      <td>routine</td>\n",
       "      <td>2015</td>\n",
       "    </tr>\n",
       "    <tr>\n",
       "      <th>3839</th>\n",
       "      <td>10102</td>\n",
       "      <td>BODEGA BISTRO</td>\n",
       "      <td>607 LARKIN ST</td>\n",
       "      <td>San Francisco</td>\n",
       "      <td>CA</td>\n",
       "      <td>94109</td>\n",
       "      <td>37.783533</td>\n",
       "      <td>-122.417603</td>\n",
       "      <td>+14159211218</td>\n",
       "      <td>0</td>\n",
       "      <td>54</td>\n",
       "      <td>20150914</td>\n",
       "      <td>routine</td>\n",
       "      <td>2015</td>\n",
       "    </tr>\n",
       "    <tr>\n",
       "      <th>4329</th>\n",
       "      <td>25572</td>\n",
       "      <td>BRISTOL FARMS #2317</td>\n",
       "      <td>845 MARKET ST 010</td>\n",
       "      <td>San Francisco</td>\n",
       "      <td>CA</td>\n",
       "      <td>94103</td>\n",
       "      <td>37.784848</td>\n",
       "      <td>-122.406892</td>\n",
       "      <td>+14159790106</td>\n",
       "      <td>0</td>\n",
       "      <td>54</td>\n",
       "      <td>20150427</td>\n",
       "      <td>routine</td>\n",
       "      <td>2015</td>\n",
       "    </tr>\n",
       "    <tr>\n",
       "      <th>7696</th>\n",
       "      <td>74084</td>\n",
       "      <td>MISS SAIGON LLC</td>\n",
       "      <td>100 06TH ST</td>\n",
       "      <td>San Francisco</td>\n",
       "      <td>CA</td>\n",
       "      <td>94103</td>\n",
       "      <td>NaN</td>\n",
       "      <td>NaN</td>\n",
       "      <td>+14155220332</td>\n",
       "      <td>1</td>\n",
       "      <td>54</td>\n",
       "      <td>20141217</td>\n",
       "      <td>routine</td>\n",
       "      <td>2014</td>\n",
       "    </tr>\n",
       "    <tr>\n",
       "      <th>1772</th>\n",
       "      <td>3459</td>\n",
       "      <td>BASIL THAI RESTAURANT &amp; BAR</td>\n",
       "      <td>1175 FOLSOM ST</td>\n",
       "      <td>San Francisco</td>\n",
       "      <td>CA</td>\n",
       "      <td>94103</td>\n",
       "      <td>37.775508</td>\n",
       "      <td>-122.409361</td>\n",
       "      <td>+14155528999</td>\n",
       "      <td>0</td>\n",
       "      <td>54</td>\n",
       "      <td>20150407</td>\n",
       "      <td>routine</td>\n",
       "      <td>2015</td>\n",
       "    </tr>\n",
       "    <tr>\n",
       "      <th>8957</th>\n",
       "      <td>81460</td>\n",
       "      <td>LE SOLEIL INTERNATIONAL HOLDINGS, INC</td>\n",
       "      <td>133 CLEMENT  ST.</td>\n",
       "      <td>San Francisco</td>\n",
       "      <td>CA</td>\n",
       "      <td>94118</td>\n",
       "      <td>NaN</td>\n",
       "      <td>NaN</td>\n",
       "      <td>+14156684848</td>\n",
       "      <td>1</td>\n",
       "      <td>55</td>\n",
       "      <td>20150723</td>\n",
       "      <td>routine</td>\n",
       "      <td>2015</td>\n",
       "    </tr>\n",
       "    <tr>\n",
       "      <th>9020</th>\n",
       "      <td>82134</td>\n",
       "      <td>HARBOR VILLA RESTAURANT</td>\n",
       "      <td>5238 DIAMOND HEIGHTS BLVD</td>\n",
       "      <td>San Francisco</td>\n",
       "      <td>CA</td>\n",
       "      <td>94131</td>\n",
       "      <td>NaN</td>\n",
       "      <td>NaN</td>\n",
       "      <td>+14152828883</td>\n",
       "      <td>1</td>\n",
       "      <td>55</td>\n",
       "      <td>20150427</td>\n",
       "      <td>routine</td>\n",
       "      <td>2015</td>\n",
       "    </tr>\n",
       "    <tr>\n",
       "      <th>7436</th>\n",
       "      <td>71168</td>\n",
       "      <td>SA BEANG THAI</td>\n",
       "      <td>312 DIVISADERO ST</td>\n",
       "      <td>San Francisco</td>\n",
       "      <td>CA</td>\n",
       "      <td>94117</td>\n",
       "      <td>37.772458</td>\n",
       "      <td>-122.437247</td>\n",
       "      <td>+14157955454</td>\n",
       "      <td>0</td>\n",
       "      <td>55</td>\n",
       "      <td>20150311</td>\n",
       "      <td>routine</td>\n",
       "      <td>2015</td>\n",
       "    </tr>\n",
       "    <tr>\n",
       "      <th>2215</th>\n",
       "      <td>4608</td>\n",
       "      <td>GOURMET KITCHEN</td>\n",
       "      <td>1051 STOCKTON ST</td>\n",
       "      <td>San Francisco</td>\n",
       "      <td>CA</td>\n",
       "      <td>94108</td>\n",
       "      <td>37.795594</td>\n",
       "      <td>-122.408204</td>\n",
       "      <td>+14157817988</td>\n",
       "      <td>0</td>\n",
       "      <td>55</td>\n",
       "      <td>20141008</td>\n",
       "      <td>routine</td>\n",
       "      <td>2014</td>\n",
       "    </tr>\n",
       "    <tr>\n",
       "      <th>4996</th>\n",
       "      <td>37882</td>\n",
       "      <td>FIRST CAKE</td>\n",
       "      <td>5901 GEARY BLVD</td>\n",
       "      <td>San Francisco</td>\n",
       "      <td>CA</td>\n",
       "      <td>94121</td>\n",
       "      <td>37.780087</td>\n",
       "      <td>-122.482596</td>\n",
       "      <td>+14158127657</td>\n",
       "      <td>0</td>\n",
       "      <td>55</td>\n",
       "      <td>20140909</td>\n",
       "      <td>routine</td>\n",
       "      <td>2014</td>\n",
       "    </tr>\n",
       "    <tr>\n",
       "      <th>562</th>\n",
       "      <td>1207</td>\n",
       "      <td>TAQUERIA LA PAZ</td>\n",
       "      <td>305 TURK ST</td>\n",
       "      <td>San Francisco</td>\n",
       "      <td>CA</td>\n",
       "      <td>94102</td>\n",
       "      <td>37.782732</td>\n",
       "      <td>-122.414139</td>\n",
       "      <td>+14156737550</td>\n",
       "      <td>0</td>\n",
       "      <td>56</td>\n",
       "      <td>20150721</td>\n",
       "      <td>routine</td>\n",
       "      <td>2015</td>\n",
       "    </tr>\n",
       "    <tr>\n",
       "      <th>8273</th>\n",
       "      <td>77162</td>\n",
       "      <td>RAMEN YAMADAYA</td>\n",
       "      <td>1728 BUCHANAN ST</td>\n",
       "      <td>San Francisco</td>\n",
       "      <td>CA</td>\n",
       "      <td>94115</td>\n",
       "      <td>NaN</td>\n",
       "      <td>NaN</td>\n",
       "      <td>+14153599983</td>\n",
       "      <td>1</td>\n",
       "      <td>56</td>\n",
       "      <td>20141121</td>\n",
       "      <td>routine</td>\n",
       "      <td>2014</td>\n",
       "    </tr>\n",
       "    <tr>\n",
       "      <th>8886</th>\n",
       "      <td>80824</td>\n",
       "      <td>WING SING BAKERY  LLC</td>\n",
       "      <td>1125 STOCKTON ST</td>\n",
       "      <td>San Francisco</td>\n",
       "      <td>CA</td>\n",
       "      <td>94133</td>\n",
       "      <td>NaN</td>\n",
       "      <td>NaN</td>\n",
       "      <td>+14154335571</td>\n",
       "      <td>1</td>\n",
       "      <td>57</td>\n",
       "      <td>20141103</td>\n",
       "      <td>routine</td>\n",
       "      <td>2014</td>\n",
       "    </tr>\n",
       "    <tr>\n",
       "      <th>267</th>\n",
       "      <td>509</td>\n",
       "      <td>CAFE BAKERY</td>\n",
       "      <td>1365 NORIEGA ST</td>\n",
       "      <td>San Francisco</td>\n",
       "      <td>CA</td>\n",
       "      <td>94122</td>\n",
       "      <td>37.754090</td>\n",
       "      <td>-122.478248</td>\n",
       "      <td>+14156616116</td>\n",
       "      <td>0</td>\n",
       "      <td>57</td>\n",
       "      <td>20141229</td>\n",
       "      <td>routine</td>\n",
       "      <td>2014</td>\n",
       "    </tr>\n",
       "    <tr>\n",
       "      <th>924</th>\n",
       "      <td>1912</td>\n",
       "      <td>CAFE BAKERY</td>\n",
       "      <td>1345 NORIEGA ST</td>\n",
       "      <td>San Francisco</td>\n",
       "      <td>CA</td>\n",
       "      <td>94122</td>\n",
       "      <td>37.754114</td>\n",
       "      <td>-122.478330</td>\n",
       "      <td>+14156616116</td>\n",
       "      <td>0</td>\n",
       "      <td>57</td>\n",
       "      <td>20141229</td>\n",
       "      <td>routine</td>\n",
       "      <td>2014</td>\n",
       "    </tr>\n",
       "  </tbody>\n",
       "</table>\n",
       "</div>"
      ],
      "text/plain": [
       "      business_id                                   name  \\\n",
       "6836        68633                        ABC BAKERY CAFE   \n",
       "4107        18480                        IMPERIAL PALACE   \n",
       "5980        64154         YUMMY DIM SUM & FAST FOOD, LLC   \n",
       "1598         3123                            LES JOULINS   \n",
       "1583         3115                       YEE'S RESTAURANT   \n",
       "5553        61436       OZONE THAI RESTAURANT AND LOUNGE   \n",
       "3839        10102                          BODEGA BISTRO   \n",
       "4329        25572                    BRISTOL FARMS #2317   \n",
       "7696        74084                        MISS SAIGON LLC   \n",
       "1772         3459            BASIL THAI RESTAURANT & BAR   \n",
       "8957        81460  LE SOLEIL INTERNATIONAL HOLDINGS, INC   \n",
       "9020        82134                HARBOR VILLA RESTAURANT   \n",
       "7436        71168                          SA BEANG THAI   \n",
       "2215         4608                        GOURMET KITCHEN   \n",
       "4996        37882                             FIRST CAKE   \n",
       "562          1207                        TAQUERIA LA PAZ   \n",
       "8273        77162                         RAMEN YAMADAYA   \n",
       "8886        80824                  WING SING BAKERY  LLC   \n",
       "267           509                            CAFE BAKERY   \n",
       "924          1912                            CAFE BAKERY   \n",
       "\n",
       "                         address           city state postal_code   latitude  \\\n",
       "6836             650 JACKSON ST   San Francisco    CA       94133  37.796133   \n",
       "4107          818 WASHINGTON ST   San Francisco    CA       94108  37.795138   \n",
       "5980            930 STOCKTON ST   San Francisco    CA       94108  37.794457   \n",
       "1598                44 ELLIS ST   San Francisco    CA       94102        NaN   \n",
       "1583             1131 GRANT AVE   San Francisco    CA       94133  37.797292   \n",
       "5553                598 02ND ST   San Francisco    CA       94107  37.781947   \n",
       "3839              607 LARKIN ST   San Francisco    CA       94109  37.783533   \n",
       "4329           845 MARKET ST 010  San Francisco    CA       94103  37.784848   \n",
       "7696                100 06TH ST   San Francisco    CA       94103        NaN   \n",
       "1772             1175 FOLSOM ST   San Francisco    CA       94103  37.775508   \n",
       "8957          133 CLEMENT  ST.    San Francisco    CA       94118        NaN   \n",
       "9020  5238 DIAMOND HEIGHTS BLVD   San Francisco    CA       94131        NaN   \n",
       "7436          312 DIVISADERO ST   San Francisco    CA       94117  37.772458   \n",
       "2215           1051 STOCKTON ST   San Francisco    CA       94108  37.795594   \n",
       "4996            5901 GEARY BLVD   San Francisco    CA       94121  37.780087   \n",
       "562                 305 TURK ST   San Francisco    CA       94102  37.782732   \n",
       "8273           1728 BUCHANAN ST   San Francisco    CA       94115        NaN   \n",
       "8886           1125 STOCKTON ST   San Francisco    CA       94133        NaN   \n",
       "267             1365 NORIEGA ST   San Francisco    CA       94122  37.754090   \n",
       "924             1345 NORIEGA ST   San Francisco    CA       94122  37.754114   \n",
       "\n",
       "       longitude  phone_number  null_lon  score      date     type  year  \n",
       "6836 -122.406237  +14159810803         0     46  20140512  routine  2014  \n",
       "4107 -122.406863  +14153778715         0     47  20141023  routine  2014  \n",
       "5980 -122.407896  +14159862783         0     50  20140507  routine  2014  \n",
       "1598         NaN  +14153975397         1     53  20140522  routine  2014  \n",
       "1583 -122.406914           NaN         0     53  20140624  routine  2014  \n",
       "5553 -122.392239  +14155363266         0     54  20150706  routine  2015  \n",
       "3839 -122.417603  +14159211218         0     54  20150914  routine  2015  \n",
       "4329 -122.406892  +14159790106         0     54  20150427  routine  2015  \n",
       "7696         NaN  +14155220332         1     54  20141217  routine  2014  \n",
       "1772 -122.409361  +14155528999         0     54  20150407  routine  2015  \n",
       "8957         NaN  +14156684848         1     55  20150723  routine  2015  \n",
       "9020         NaN  +14152828883         1     55  20150427  routine  2015  \n",
       "7436 -122.437247  +14157955454         0     55  20150311  routine  2015  \n",
       "2215 -122.408204  +14157817988         0     55  20141008  routine  2014  \n",
       "4996 -122.482596  +14158127657         0     55  20140909  routine  2014  \n",
       "562  -122.414139  +14156737550         0     56  20150721  routine  2015  \n",
       "8273         NaN  +14153599983         1     56  20141121  routine  2014  \n",
       "8886         NaN  +14154335571         1     57  20141103  routine  2014  \n",
       "267  -122.478248  +14156616116         0     57  20141229  routine  2014  \n",
       "924  -122.478330  +14156616116         0     57  20141229  routine  2014  "
      ]
     },
     "execution_count": 181,
     "metadata": {},
     "output_type": "execute_result"
    }
   ],
   "source": [
    "merged_dataset.sort_values(by = 'score', ascending = True).head(20)"
   ]
  },
  {
   "cell_type": "markdown",
   "metadata": {},
   "source": [
    "## Done!\n",
    "\n",
    "Now commit this notebook to your `hw3_submissions` branch, push it to your GitHub repo, and open a PR!"
   ]
  },
  {
   "cell_type": "code",
   "execution_count": null,
   "metadata": {},
   "outputs": [],
   "source": []
  },
  {
   "cell_type": "code",
   "execution_count": null,
   "metadata": {},
   "outputs": [],
   "source": []
  }
 ],
 "metadata": {
  "anaconda-cloud": {},
  "hide_input": false,
  "kernelspec": {
   "display_name": "Python 3",
   "language": "python",
   "name": "python3"
  },
  "language_info": {
   "codemirror_mode": {
    "name": "ipython",
    "version": 3
   },
   "file_extension": ".py",
   "mimetype": "text/x-python",
   "name": "python",
   "nbconvert_exporter": "python",
   "pygments_lexer": "ipython3",
   "version": "3.8.5"
  },
  "toc": {
   "base_numbering": 1,
   "nav_menu": {},
   "number_sections": false,
   "sideBar": true,
   "skip_h1_title": false,
   "title_cell": "Table of Contents",
   "title_sidebar": "Contents",
   "toc_cell": false,
   "toc_position": {},
   "toc_section_display": true,
   "toc_window_display": false
  }
 },
 "nbformat": 4,
 "nbformat_minor": 2
}
